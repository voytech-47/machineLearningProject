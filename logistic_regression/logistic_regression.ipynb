{
 "cells": [
  {
   "cell_type": "code",
   "id": "6b6a6757cc674cd3",
   "metadata": {
    "collapsed": true,
    "ExecuteTime": {
     "end_time": "2025-01-12T13:11:48.165235Z",
     "start_time": "2025-01-12T13:11:48.140617Z"
    }
   },
   "source": [
    "from sklearn.linear_model import LogisticRegression\n",
    "from sklearn.metrics import accuracy_score, precision_score, recall_score, f1_score, confusion_matrix\n",
    "from sklearn.model_selection import train_test_split\n",
    "import pandas as pd\n",
    "from sklearn.preprocessing import StandardScaler, LabelEncoder\n",
    "\n",
    "# załadowanie pliku z przygotowanymi danymi\n",
    "data = pd.read_csv('..\\\\data\\\\merged_season_stats.csv')\n",
    "\n",
    "# funkcja skalująca\n",
    "scaler = StandardScaler()\n",
    "scaler.fit(data)\n",
    "scaled_data = pd.DataFrame(scaler.transform(data))\n",
    "\n",
    "# podział danych na zbiory uczące i testowe\n",
    "data_train, data_test = train_test_split(scaled_data, test_size=0.2)\n",
    "x_train = pd.DataFrame(data_train[data_train.columns[:-1]])\n",
    "y_train = pd.Series(data_train[data_train.columns[-1]])\n",
    "x_test = pd.DataFrame(data_test[data_test.columns[:-1]])\n",
    "y_test = pd.Series(data_test[data_test.columns[-1]])\n",
    "\n",
    "# kodowanie wektora y\n",
    "label_encoder = LabelEncoder()\n",
    "y_train_encoded = pd.Series(label_encoder.fit_transform(y_train))\n",
    "y_test_encoded = pd.Series(label_encoder.fit_transform(y_test))"
   ],
   "outputs": [],
   "execution_count": 53
  },
  {
   "metadata": {
    "ExecuteTime": {
     "end_time": "2025-01-12T13:10:53.411287Z",
     "start_time": "2025-01-12T13:10:53.382188Z"
    }
   },
   "cell_type": "code",
   "source": [
    "# definicja modelu\n",
    "model = LogisticRegression()\n",
    "model.fit(x_train, y_train_encoded)\n",
    "\n",
    "# predykcja modelu\n",
    "y_predicted = model.predict(x_test)\n",
    "\n",
    "# ewaluacja modelu\n",
    "accuracy = accuracy_score(y_test_encoded, y_predicted)\n",
    "precision = precision_score(y_test_encoded, y_predicted)\n",
    "recall = recall_score(y_test_encoded, y_predicted)\n",
    "f1 = f1_score(y_test_encoded, y_predicted)\n",
    "\n",
    "print(f\"Accuracy: {accuracy}\")\n",
    "print(f\"Precision: {precision}\")\n",
    "print(f\"Recall: {recall}\")\n",
    "print(f\"F1-Score: {f1}\")"
   ],
   "id": "initial_id",
   "outputs": [
    {
     "name": "stdout",
     "output_type": "stream",
     "text": [
      "Accuracy: 0.9814814814814815\n",
      "Precision: 0.875\n",
      "Recall: 0.875\n",
      "F1-Score: 0.875\n"
     ]
    }
   ],
   "execution_count": 50
  }
 ],
 "metadata": {
  "kernelspec": {
   "display_name": "Python 3",
   "language": "python",
   "name": "python3"
  },
  "language_info": {
   "codemirror_mode": {
    "name": "ipython",
    "version": 2
   },
   "file_extension": ".py",
   "mimetype": "text/x-python",
   "name": "python",
   "nbconvert_exporter": "python",
   "pygments_lexer": "ipython2",
   "version": "2.7.6"
  }
 },
 "nbformat": 4,
 "nbformat_minor": 5
}
