{
 "cells": [
  {
   "cell_type": "code",
   "execution_count": null,
   "id": "initial_id",
   "metadata": {
    "collapsed": true
   },
   "outputs": [],
   "source": [
    "import random\n",
    "from PIL import Image\n",
    "import os\n",
    "\n",
    "# generowanie syntetycznego zbioru uczącego - generowanie obrazków na podstawie źródła\n",
    "root_folder = '..\\\\F1 Teams\\\\'\n",
    "\n",
    "\n",
    "def create_dataset(image_name, folder_name, number_of_samples=250):\n",
    "    for i in range(number_of_samples):\n",
    "        try:\n",
    "            with Image.open(f\"..\\\\{folder_name}\\\\{image_name}\") as img:\n",
    "                angle = random.uniform(0, 360)\n",
    "                rotated_img = img.rotate(angle, expand=True)\n",
    "                augmented_path = f\"..\\\\{folder_name}\\\\{folder_name.split(\"\\\\\")[-1]}_{i}.jpg\"\n",
    "                final_image = rotated_img.resize((250, 250))\n",
    "                final_image.save(augmented_path)\n",
    "\n",
    "        except Exception as e:\n",
    "            print(f\"Error processing {image_name}: {e}\")\n",
    "\n",
    "\n",
    "for root, dirs, files in os.walk(root_folder):\n",
    "    for file in files:\n",
    "        if file == \"logo.jpg\":\n",
    "            create_dataset(file, f\"{root}\")\n"
   ]
  }
 ],
 "metadata": {
  "kernelspec": {
   "display_name": "Python 3",
   "language": "python",
   "name": "python3"
  },
  "language_info": {
   "codemirror_mode": {
    "name": "ipython",
    "version": 2
   },
   "file_extension": ".py",
   "mimetype": "text/x-python",
   "name": "python",
   "nbconvert_exporter": "python",
   "pygments_lexer": "ipython2",
   "version": "2.7.6"
  }
 },
 "nbformat": 4,
 "nbformat_minor": 5
}
