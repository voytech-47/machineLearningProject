{
 "cells": [
  {
   "cell_type": "code",
   "id": "initial_id",
   "metadata": {
    "collapsed": true,
    "ExecuteTime": {
     "end_time": "2025-01-02T11:23:11.907184Z",
     "start_time": "2025-01-02T11:23:09.916937Z"
    }
   },
   "source": [
    "import pandas as pd\n",
    "YEAR = 2004\n",
    "races = pd.read_csv('.\\\\data\\\\races.csv')\n",
    "raceResults = pd.read_csv('.\\\\data\\\\results.csv')\n",
    "lapTimes = pd.read_csv('.\\\\data\\\\lapTimes.csv')\n",
    "driverStandings = pd.read_csv('.\\\\data\\\\driverStandings.csv')\n",
    "\n",
    "# złączanie \"tabel\" results oraz races po kolumnie raceId\n",
    "merged_data = pd.merge(raceResults, races[['raceId', 'year']], on='raceId')\n",
    "\n",
    "# usunięcie niekluczowych danych\n",
    "merged_data.drop([\"constructorId\", \"number\", \"positionText\", 'position', 'points', 'time', 'milliseconds', 'fastestLap', 'rank', 'fastestLapTime', 'fastestLapSpeed', 'statusId'], axis=1, inplace=True)\n",
    "\n",
    "# tabela zbiorcza\n",
    "all_season_stats = []\n",
    "\n",
    "# sprawdzenie, który z kierowców był mistrzem w danym sezonie\n",
    "last_races = races.groupby('year')['raceId'].max().reset_index()\n",
    "last_race_standings = pd.merge(last_races, driverStandings, on='raceId')\n",
    "champions = last_race_standings[last_race_standings['position'] == 1][['year', 'driverId']]\n",
    "\n",
    "# champions.to_csv(\".\\\\data\\\\champions.csv\", encoding='utf-8', index=False)\n",
    "\n",
    "# iterowanie po wszystkich latach\n",
    "for year in range(1950, 2018):\n",
    "    # print(f\"\\n{year}\")\n",
    "    year_data = merged_data[merged_data['year'] == year]\n",
    "\n",
    "    number_of_races = year_data.nunique()[\"raceId\"]\n",
    "\n",
    "    # liczenie średniej kolumn positionOrder oraz grid grupując po kolumnie driverId\n",
    "    season_stats = year_data.groupby('driverId').agg({\n",
    "        'positionOrder': 'mean',\n",
    "        'grid': 'mean'\n",
    "    }).reset_index()\n",
    "\n",
    "    season_stats.rename(columns={'positionOrder': 'avg_racePosition', 'grid': 'avg_gridPosition'}, inplace=True)\n",
    "\n",
    "    wins_percentage = year_data.groupby('driverId')['positionOrder'].apply(lambda x: (x == 1).sum() / number_of_races * 100)\n",
    "    season_stats['winsPercentage'] = season_stats['driverId'].map(wins_percentage)\n",
    "\n",
    "    # obliczanie % przejechanych okrążeń w sezonie\n",
    "    year_lap_times = lapTimes[lapTimes['raceId'].isin(year_data['raceId'])]\n",
    "    max_laps = year_lap_times.groupby('raceId')['lap'].max()\n",
    "    driver_laps = year_lap_times.groupby(['raceId', 'driverId'])['lap'].max()\n",
    "    completed_lap_percentage = driver_laps / driver_laps.index.get_level_values(0).map(max_laps)\n",
    "    completed_lap_percentage = completed_lap_percentage.groupby('driverId').mean() * 100\n",
    "    season_stats['completedLapPercentage'] = season_stats['driverId'].map(completed_lap_percentage)\n",
    "\n",
    "    # dodanie kolumny określająca, czy dany kierowca został mistrzem w tym sezonie\n",
    "    season_stats['championshipWinner'] = season_stats['driverId'].apply(lambda x: 1 if ((year, x) in zip(champions['year'], champions['driverId'])) else 0)\n",
    "\n",
    "    # usuwanie wartości NaN - dane o przejechanych okrążeniach zbierane są dopiero od sezonu 1996\n",
    "    season_stats.dropna(subset=['completedLapPercentage'], inplace=True)\n",
    "\n",
    "    season_stats.drop(columns=['driverId'], inplace=True)\n",
    "    # season_stats['year'] = year\n",
    "\n",
    "    # dodanie danych do zbiorczej tabeli\n",
    "    all_season_stats.append(season_stats)\n",
    "\n",
    "# połączenie wszystkich danych z tabeli zbiorczej do jednej tabeli\n",
    "merged_season_stats = pd.concat(all_season_stats, ignore_index=True)\n",
    "\n",
    "merged_season_stats.to_csv(\".\\\\data\\\\merged_season_stats.csv\", encoding='utf-8', index=False)\n"
   ],
   "outputs": [],
   "execution_count": 99
  }
 ],
 "metadata": {
  "kernelspec": {
   "display_name": "Python 3",
   "language": "python",
   "name": "python3"
  },
  "language_info": {
   "codemirror_mode": {
    "name": "ipython",
    "version": 2
   },
   "file_extension": ".py",
   "mimetype": "text/x-python",
   "name": "python",
   "nbconvert_exporter": "python",
   "pygments_lexer": "ipython2",
   "version": "2.7.6"
  }
 },
 "nbformat": 4,
 "nbformat_minor": 5
}
